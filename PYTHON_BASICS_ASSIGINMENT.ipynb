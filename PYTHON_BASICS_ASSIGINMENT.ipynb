{
  "nbformat": 4,
  "nbformat_minor": 0,
  "metadata": {
    "colab": {
      "provenance": []
    },
    "kernelspec": {
      "name": "python3",
      "display_name": "Python 3"
    },
    "language_info": {
      "name": "python"
    }
  },
  "cells": [
    {
      "cell_type": "markdown",
      "source": [
        "# PYTHON BASIC QUESTIONS"
      ],
      "metadata": {
        "id": "DWK0tHrdwbf6"
      }
    },
    {
      "cell_type": "markdown",
      "source": [
        "# 1. What is Python, and why is it popular?\n",
        "Ans: Python is a interpreted and high level language known for its readability and simplicity. The creator was Guido van rossum in 1991. He named this after an actor named as \"Monty python\" . Python is a formal language for creating instructions for a computer to follow. Also it is a set of rules and symbols that defines the process of writing computer programme.\n",
        "  Python is very popular due to its many reasons which are mentioned below:\n",
        "  - It is widely used in industries like data industries and many more.\n",
        "  - Large community and it has a lot of librarires.\n",
        "  - iIt is also popular for its versatility and can be used for a wide range of applications.\n",
        "  - It is easy for learning.\n",
        "  - It has a lot of uses which includes automation, databases, data analysis, can work on front-end and back-end and many more.\n",
        "\n",
        "# 2. What is an interpreter in Python?\n",
        "  Ans: An interpreter in python is a program that reads and executes python code line by line. Python code is processed and executed in real time by the interpreter.\n",
        "  ## Key features of an interpreter in python:\n",
        "  - line by line execution.\n",
        "  - Portability\n",
        "  - Error handling\n",
        "  - Ease of use\n",
        "  - Interactive development\n",
        "## Types of python interpreters:\n",
        "  - Cpython\n",
        "  - Pypy\n",
        "  - Jython\n",
        "  - Ironpython\n",
        "\n",
        "#3. What are pre-defined keywords in Python?\n",
        "Ans: Keywords are predefined words that hold a special meaning and have specific purpose to do. In other words, predefined words are a set of words that have a special meaning and are part of the language syntax. These keywords are reserved for use by python and cannot be used as variable names, function names, or identifiers. E.g. Print, Type etc.\n",
        "##To know all the keywords in python this command should be given:\n",
        "help('keywords')\n",
        "and do a run after this and then you will get all the keywords in the output.\n",
        "# 4. Can keywords be used as variable names?\n",
        "Ans. No, keywords cannot be used as variable names in python. These are reserved wordds that have a predefined meaning in the python language. As they are essential to the structure and flow of python programs, trying to use them as variable names will result in syntax error.\n",
        "E.g. If we run a command like this\n",
        "\n",
        "from = 5\n",
        "\n",
        "then, it will show an error which states that \"invalid syntax\"because \"from is a keyword\"\n",
        "\n",
        "#5. What is mutability in Python?\n",
        "Ans: It refers to an process to change anything in the container after created. In simple words, it determines if the value of an object can be altered or modified without creating a new object. Mutability has two types:\n",
        "a) Mutable objects - Objects whose state or value can be changed after they are created are called mutable objects.\n",
        "b) Immutable objects - Objects whose state or value cannot be changed after they are created are called Immutable objects.\n",
        "E.g. Mutable objects - lists, dictionaries, sets.\n",
        "     Immutable objects - tuples, strings,integers, floats, booleans.\n",
        "\n",
        "##6. Why are lists mutable, but tuples are immutable?\n",
        "Ans: Lists - lists are mutable because they are designed to represent collections of items where content might need to change over time. hence, lists are optimized for such operations.\n",
        "On the other hand, tuples are immutable, means once created, their content cannot be changed or modified. This design choice is made to provide date integrity and to optimize situations where you want to ensure that the collection cannot be accidently modified.\n",
        "- why different mutability?\n",
        "-> Lists: are meant to represent dynamic collections of items, where the contents may need to change over time. we might be modifying a list frequently, so mutability allows for that flexibility.\n",
        "-> Tuple: are meant to represent static collections of items, where the data should remain unchanged. This immutability offers benefits like data intergrity, hashtagibility, and thread safely. ALso, the immutable nature of tuples allows them to be used as dectionary keys or set elements, unlike lists.\n",
        "\n",
        "#7. What is the difference between “==” and “is” operators in Python?\n",
        "Ans: Operators: special keywords or symbols that are used to perform operations on values or variables.\n",
        "\n",
        "The\"==\" and \"is\" operators in python are both used for comparison, but they serve different purposes and are used in different contexts.\n",
        "\n",
        "- ==(Equality operator): This operator is used to compare values of two objects.This operator compares the data inside the objects. If the data inside the objects are same , it gives the output \"true\".\n",
        "- is(Identity operator): This operator is used to compare the identity of two objects. It checks whether the two objects refer to the same memory location. This operator checks if the two variables point to the same object in memory, not just if their value are the same.\n",
        "\n",
        "#8. What are logical operators in Python?\n",
        "Ans: Logical operators are used to combine conditional statements or boolean expressions. They allow us to perform logical operations and boolean values and return a result based on the logic of the operation. The 3 main logical operators in python are:\n",
        "- and: This operator returns \"True\" if both conditions are true. If either one operand is false, the result will be false.\n",
        "- or: This operator returns if at least one condition/operand is true. It only returns False when both operands are false.\n",
        "- not: The not operator is a negation operator. It takes a single condition and inverts its boolean value. If the condition true, it returns False, and if the condition is False, it returns True.\n",
        "\n",
        "#9. What is type casting in Python?\n",
        "Ans: The processs of changing the data type of a value/object. Or, it is a process of conerting a valur from 1 data type to another. This is useful when you need to change the type of a variable in order to perform certain operations or ensure compatibility with other data types.\n",
        "\n",
        "#10. What is the difference between implicit and explicit type casting?\n",
        "Ans: A) Implicit type casting: In this, oython automatically converts a smaller data type to a larger data type, without any user intervention.\n",
        "\n",
        "B) Explicit type casting: In this, you manually convert a value from 1 data type to another using python's built-in functions. This is necessary when the automatic conversion is not possible or when you want to ensure a particular type for a variable.\n",
        "\n",
        "C) Boolean type conversion: We can convert any boolean value to a boolean(True,False)\n",
        "- False values: None, False, 0, '', etc.\n",
        "- All other values are considered True.\n",
        "\n",
        "## Common type casting functions:\n",
        "- int() - Converts a value to an integer.\n",
        "- float() - Converts a value to a float.\n",
        "- str() - Converts a value to a string.\n",
        "- bool() - Converts a value to a boolean.\n",
        "\n",
        "#11. What is the purpose of conditional statements in Python?\n",
        "Ans: Flow control in python refers to mechanisms that govern the order in which statements and instructions are executed. This is crucial for implementing logic in your programme.\n",
        "  \n",
        "Conditional statements in python allow us to control the flow of our program based on certain conditions. These statements enable your program to make descicions and perform different actions depending on whether a condition is true or false. Without conditional statements, program would always execute in straight line from start to finish, making them less flexible and inactive.\n",
        "  E.g. if, elif, else.\n",
        "\n",
        "  ## Purpose of conditionals statements:\n",
        "  - Descision making: They allow the program to decide which block of code to execute based on certain conditions on criteria.\n",
        "  - Branching: They create branches in the code that enable different actions to be taken based on certain conditions or criteria.\n",
        "  - Control flow: Conditional statements control thr flow of execution, letting you handle various scenarios and cases in a program.\n",
        "  - Customization: They allow your program to respond defferently to various inputs or circumstances, making the program dynamic.\n",
        "\n",
        "#12. How does the elif statement work?  \n",
        "Ans: The elif statement gives you the ability to test multiple conditions in a sequence, and it ensures that only one block of code(the first one whose condition evalutes to true) is executed.\n",
        "\n",
        "## Working of elif:\n",
        "- The if condition is evaluated first. If it's true, its associated block of code is executed, and the rest of the elif and else statements are skipped.\n",
        "- If the if condition is false, python checks the conditions in each elif statement, in order. As soon as it finds a condition that is true, it executes the corresponding block of code, and the rest of the elif and else statements are skipped.\n",
        "- If all conditions in the if and elif statements are false, the code inside the else block will be executed, if an else block is provided.\n",
        "\n",
        "#13. What is the difference between for and while loops?\n",
        "Ans: The for and while loops are both used for repeating a block of code in python, but they differ in how they control the iteration process.\n",
        "\n",
        "(1) For loop: A for loop is generally used when you know in advance how many times you want to repeat a block of code, or you are iterating over a sequence (like,list, string, or range of numbers).\n",
        "\n",
        "E.g. By following these commands-\n",
        "\n",
        "numbers = [1,2,3]\n",
        "\n",
        "for num in numbers:\n",
        "\n",
        "    print(num)\n",
        "\n",
        "Then the output will be:\n",
        "\n",
        "1\n",
        "\n",
        "2\n",
        "\n",
        "3\n",
        "\n",
        "(2) While loop: A while loop is used when you want to repeat a block of code as long as a certain conditions are true. The loop keeps running until the condition becomes false. You don't necessarily know the numbers of iterations in advance.\n",
        "\n",
        "E.g. By following these commands-\n",
        "\n",
        "i = 1\n",
        "\n",
        "while i<= 3:\n",
        "\n",
        "    print(i)\n",
        "\n",
        "    i += 1\n",
        "\n",
        "Then the output will be:\n",
        "\n",
        "1\n",
        "\n",
        "2\n",
        "\n",
        "3\n",
        "\n",
        "- For loop: Best for iterating over a known sequence.\n",
        "- While loop: Best for situations where you want to keep looping until a certain condition is met.\n",
        "\n",
        "#14: Describe a scenario where a while loop is more suitable than a for loop?\n",
        "Ans: Suppose we are writing a program where we need to ask a user to enter their age, but the input should be between 0 - 18. If the user enters an invalid input the program should keep asking like a loop until the user gives the valid input.\n",
        "\n",
        "In this case, a while loop is prefered because we dont know how many attempts the user will need to provide a valid input. This while loop keep running until the user fulfill the needs of the required conditions.\n",
        "\n",
        "\n",
        "\n"
      ],
      "metadata": {
        "id": "w8YnWaitwNeb"
      }
    },
    {
      "cell_type": "markdown",
      "source": [
        "# PRACTICAL QUESTIONS"
      ],
      "metadata": {
        "id": "79HMQqPhGeF3"
      }
    },
    {
      "cell_type": "code",
      "source": [
        "#QUE1: Write a Python program to print \"Hello, World! ?\n",
        "#ANS:\n",
        "print(\"Hello, World!\")"
      ],
      "metadata": {
        "colab": {
          "base_uri": "https://localhost:8080/"
        },
        "id": "OE4nBUjDGnCX",
        "outputId": "72461522-fa23-457e-b5bd-1b6650a88bac"
      },
      "execution_count": null,
      "outputs": [
        {
          "output_type": "stream",
          "name": "stdout",
          "text": [
            "Hello, World!\n"
          ]
        }
      ]
    },
    {
      "cell_type": "code",
      "source": [
        "#QUE2: Write a Python program that displays your name and age ?\n",
        "#ANS:\n",
        "name = \"shreyansh\"\n",
        "age = 24\n",
        "\n",
        "print(name)\n",
        "print(age)"
      ],
      "metadata": {
        "colab": {
          "base_uri": "https://localhost:8080/"
        },
        "id": "TRHyePw1G4d8",
        "outputId": "93a68a38-0317-487e-ab7d-6c02c9bfdd5d"
      },
      "execution_count": null,
      "outputs": [
        {
          "output_type": "stream",
          "name": "stdout",
          "text": [
            "shreyansh\n",
            "24\n"
          ]
        }
      ]
    },
    {
      "cell_type": "code",
      "source": [
        "#QUE3: Write code to print all the pre-defined keywords in Python using the keyword library ?\n",
        "#ANS: To print all the keywords in python use this command:\n",
        "\n",
        "help(\"keywords\")\n"
      ],
      "metadata": {
        "colab": {
          "base_uri": "https://localhost:8080/"
        },
        "id": "iiSE07f8Hi3H",
        "outputId": "cb771310-c984-4993-8437-8071e3919d68"
      },
      "execution_count": null,
      "outputs": [
        {
          "output_type": "stream",
          "name": "stdout",
          "text": [
            "\n",
            "Here is a list of the Python keywords.  Enter any keyword to get more help.\n",
            "\n",
            "False               class               from                or\n",
            "None                continue            global              pass\n",
            "True                def                 if                  raise\n",
            "and                 del                 import              return\n",
            "as                  elif                in                  try\n",
            "assert              else                is                  while\n",
            "async               except              lambda              with\n",
            "await               finally             nonlocal            yield\n",
            "break               for                 not                 \n",
            "\n"
          ]
        }
      ]
    },
    {
      "cell_type": "code",
      "source": [
        "#QUE4: Write a program that checks if a given word is a Python keyword ?\n",
        "#ANS:\n",
        "import keyword\n",
        "\n",
        "word = input(\"PLEASE ENTER A WORD TO CHECK IF IT IS A PYTHON KEYWORD?: \")\n",
        "if word in keyword.kwlist:\n",
        "    print(f\"YES, '{word}' IS A PYTHON KEYWORD.\")\n",
        "else:\n",
        "  print(f\"NO!, '{word}' IS NOT A PYTHON KEYWORD. PLEASE ENTER ANOTHER WORD. THANK YOU!!\")"
      ],
      "metadata": {
        "colab": {
          "base_uri": "https://localhost:8080/"
        },
        "id": "djTn8C0yIy9O",
        "outputId": "f01128e1-d7c7-45a9-ab81-9bd490437da4"
      },
      "execution_count": null,
      "outputs": [
        {
          "output_type": "stream",
          "name": "stdout",
          "text": [
            "PLEASE ENTER A WORD TO CHECK IF IT IS A PYTHON KEYWORD?: hi\n",
            "NO!, 'hi' IS NOT A PYTHON KEYWORD. PLEASE ENTER ANOTHER WORD. THANK YOU!!\n"
          ]
        }
      ]
    },
    {
      "cell_type": "code",
      "source": [
        "#QUE5: . Create a list and tuple in Python, and demonstrate how attempting to change an element works differently for each ?\n",
        "#ANS:\n",
        "my_list = [1,2,3,4,5]\n",
        "print(\"ORIGINAL LIST: \", my_list)\n",
        "\n",
        "my_list[3] = 100\n",
        "print(\"UPDATED LIST: \", my_list)\n",
        "\n",
        "\n",
        "my_tupule = (1,2,3,4,5)\n",
        "print(\"ORIGINAL TUPULE: \", my_tupule)\n",
        "\n",
        "\n",
        "my_tupule[3] = 100\n",
        "print(\"UPDATED TUPULE: \", my_tupule)\n",
        "\n",
        "#THIS TUPULE WILL NOT CHANGE AND THROW AN ERROR BECAUSE WE CANNOT CHANGE THE VALUE OF A TUPULE AS IT IS IMMUTABLE.\n",
        "#TO COMPLETE THE PROGRAM WE CAN USE THESE COMMANDS BY HASTAGIFY THE ABOVE TUPULES COMMANDS:\n",
        "\n",
        "try:\n",
        "  my_list = (1,2,3,4,5)\n",
        "  print(\"ORIGINAL TUPULE. \", my_list)\n",
        "except TypeError as e:\n",
        "  print(\"ERROR: \", e)\n",
        "\n"
      ],
      "metadata": {
        "colab": {
          "base_uri": "https://localhost:8080/",
          "height": 273
        },
        "id": "uogd4kHJNxBm",
        "outputId": "f0da771c-460e-4a17-a3b0-8a2ce8e8cdef"
      },
      "execution_count": null,
      "outputs": [
        {
          "output_type": "stream",
          "name": "stdout",
          "text": [
            "ORIGINAL LIST:  [1, 2, 3, 4, 5]\n",
            "UPDATED LIST:  [1, 2, 3, 100, 5]\n",
            "ORIGINAL TUPULE:  (1, 2, 3, 4, 5)\n"
          ]
        },
        {
          "output_type": "error",
          "ename": "TypeError",
          "evalue": "'tuple' object does not support item assignment",
          "traceback": [
            "\u001b[0;31m---------------------------------------------------------------------------\u001b[0m",
            "\u001b[0;31mTypeError\u001b[0m                                 Traceback (most recent call last)",
            "\u001b[0;32m/tmp/ipython-input-1733547921.py\u001b[0m in \u001b[0;36m<cell line: 0>\u001b[0;34m()\u001b[0m\n\u001b[1;32m     12\u001b[0m \u001b[0;34m\u001b[0m\u001b[0m\n\u001b[1;32m     13\u001b[0m \u001b[0;34m\u001b[0m\u001b[0m\n\u001b[0;32m---> 14\u001b[0;31m \u001b[0mmy_tupule\u001b[0m\u001b[0;34m[\u001b[0m\u001b[0;36m3\u001b[0m\u001b[0;34m]\u001b[0m \u001b[0;34m=\u001b[0m \u001b[0;36m100\u001b[0m\u001b[0;34m\u001b[0m\u001b[0;34m\u001b[0m\u001b[0m\n\u001b[0m\u001b[1;32m     15\u001b[0m \u001b[0mprint\u001b[0m\u001b[0;34m(\u001b[0m\u001b[0;34m\"UPDATED TUPULE: \"\u001b[0m\u001b[0;34m,\u001b[0m \u001b[0mmy_tupule\u001b[0m\u001b[0;34m)\u001b[0m\u001b[0;34m\u001b[0m\u001b[0;34m\u001b[0m\u001b[0m\n\u001b[1;32m     16\u001b[0m \u001b[0;34m\u001b[0m\u001b[0m\n",
            "\u001b[0;31mTypeError\u001b[0m: 'tuple' object does not support item assignment"
          ]
        }
      ]
    },
    {
      "cell_type": "code",
      "source": [
        "#QUE6:Write a function to demonstrate the behavior of mutable and immutable arguments ?\n",
        "#ANS:\n",
        "\n",
        "def demonstrate_mutable_immutable(mutable_arg, immutable_arg):\n",
        "\n",
        "    mutable_arg.append(100)\n",
        "    immutable_arg += 10\n",
        "\n",
        "    print(\"Inside function:\")\n",
        "    print(\"Mutable argument:\", mutable_arg)\n",
        "    print(\"Immutable argument:\", immutable_arg)\n",
        "\n",
        "my_list = [1, 2, 3]\n",
        "my_number = 10\n",
        "\n",
        "demonstrate_mutable_immutable(my_list, my_number)\n",
        "\n",
        "print(\"\\nOutside function:\")\n",
        "print(\"Mutable argument:\", my_list)\n",
        "print(\"Immutable argument:\", my_number)\n"
      ],
      "metadata": {
        "id": "hvCUAuQhS_HQ",
        "colab": {
          "base_uri": "https://localhost:8080/"
        },
        "outputId": "28bec5f2-a435-4b35-f75d-c521a655a872"
      },
      "execution_count": null,
      "outputs": [
        {
          "output_type": "stream",
          "name": "stdout",
          "text": [
            "Inside function:\n",
            "Mutable argument: [1, 2, 3, 100]\n",
            "Immutable argument: 20\n",
            "\n",
            "Outside function:\n",
            "Mutable argument: [1, 2, 3, 100]\n",
            "Immutable argument: 10\n"
          ]
        }
      ]
    },
    {
      "cell_type": "code",
      "source": [
        "#QUE7: Write a program that performs basic arithmetic operations on two user-input numbers ?\n",
        "#ANS:\n",
        "input1 = int(input(\"ENTER A NUMBER TO OPERATE: \"))\n",
        "input2 = int(input(\"ENTER ANOTHER NUMBER TO OPERATE: \"))\n",
        "\n",
        "print(\"ADDITION: \", input1 + input2)\n",
        "print(\"SUBTRACTION: \", input1 - input2)\n",
        "print(\"MULTIPLICATION: \", input1 * input2)\n",
        "print(\"DIVISION: \", input1 / input2)\n"
      ],
      "metadata": {
        "colab": {
          "base_uri": "https://localhost:8080/"
        },
        "id": "Jey1kXsazdyr",
        "outputId": "1233c879-7587-448d-885f-cbb9d7612424"
      },
      "execution_count": null,
      "outputs": [
        {
          "output_type": "stream",
          "name": "stdout",
          "text": [
            "ENTER A NUMBER TO OPERATE: 2\n",
            "ENTER ANOTHER NUMBER TO OPERATE: 2\n",
            "ADDITION:  4\n",
            "SUBTRACTION:  0\n",
            "MULTIPLICATION:  4\n",
            "DIVISION:  1.0\n"
          ]
        }
      ]
    },
    {
      "cell_type": "code",
      "source": [
        "from ast import If\n",
        "#QUE8: Write a program to demonstrate the use of logical operators ?\n",
        "#ANS:\n",
        "if_night_time = True\n",
        "if_VIP = False\n",
        "has_entry = True\n",
        "\n",
        "if if_night_time and if_VIP:\n",
        "  print(\"YOU CAN ENTER (THIS IS A EXAMPLE OF A AND OPERATOR)\")\n",
        "else:\n",
        "  print(\"YOU CANNOT ENTER (THIS IS A EXAMPLE OF A AND OPERATOR)\")\n",
        "\n",
        "if if_night_time or has_entry:\n",
        "  print(\"YOU CAN ENTER (THIS IS A EXAMPLE OF A OR OPERATOR)\")\n",
        "else:\n",
        "  print(\"YOU CANNOT ENTER (THIS IS A EXAMPLE OF A OR OPERATOR)\")\n",
        "\n",
        "if not has_entry:\n",
        "  print(\"YOU CANNOT ENTER(THIS IS A EXAMPLE OF A NOT OPERATOR)\")\n",
        "else:\n",
        "  print(\"YOU CAN ENTER (THIS IS A EXAMPLE OF A NOT OPERATOR)\")\n",
        "\n",
        "\n",
        "\n",
        "\n"
      ],
      "metadata": {
        "colab": {
          "base_uri": "https://localhost:8080/"
        },
        "id": "D55s0zzB0DR7",
        "outputId": "b733cca3-178e-45d2-a87f-b9e7d549714e"
      },
      "execution_count": null,
      "outputs": [
        {
          "output_type": "stream",
          "name": "stdout",
          "text": [
            "YOU CANNOT ENTER (THIS IS A EXAMPLE OF A AND OPERATOR)\n",
            "YOU CAN ENTER (THIS IS A EXAMPLE OF A OR OPERATOR)\n",
            "YOU CAN ENTER (THIS IS A EXAMPLE OF A NOT OPERATOR)\n"
          ]
        }
      ]
    },
    {
      "cell_type": "code",
      "source": [
        "from inspect import trace\n",
        "#QUE9: Write a Python program to convert user input from string to integer, float, and boolean types ?\n",
        "#ANS:\n",
        "input_value = input(\"TYPE SOMETHING: \")\n",
        "\n",
        "try:\n",
        "  integer_value = int(input_value)\n",
        "  print(f\"integer: {integer_value}\")\n",
        "except:\n",
        "  print(\"Invalid input. Please enter a valid integer value.\")\n",
        "\n",
        "try:\n",
        "  float_value = float(input_value)\n",
        "  print(f\"float: {float_value}\")\n",
        "except:\n",
        "  print(\"Invalid input. Please enter a valid float value.\")\n",
        "\n",
        "try:\n",
        "  boolean_value = input_value.lower() == 'true'\n",
        "  print(f\"boolean: {boolean_value}\")\n",
        "except:\n",
        "  print(\"Invalid input. Please enter a valid boolean value.\")"
      ],
      "metadata": {
        "id": "mLKXUvDG5PpQ",
        "colab": {
          "base_uri": "https://localhost:8080/"
        },
        "outputId": "70225493-5884-473a-eabe-270ff9b9bcbf"
      },
      "execution_count": null,
      "outputs": [
        {
          "output_type": "stream",
          "name": "stdout",
          "text": [
            "TYPE SOMETHING: 2\n",
            "integer: 2\n",
            "float: 2.0\n",
            "boolean: False\n"
          ]
        }
      ]
    },
    {
      "cell_type": "code",
      "source": [
        "#QUE10: Write code to demonstrate type casting with list elements ?\n",
        "#ANS:\n",
        "Number_list = [1, 3.5, \"10\", \"20.5\", True ]\n",
        "\n",
        "print(\"ORIGINAL LIST: \", Number_list)\n",
        "\n",
        "int_list = []\n",
        "for item in Number_list:\n",
        "  if isinstance(item, str) and item.isdigit():\n",
        "    int_list.append(item)\n",
        "  elif isinstance(item, (int,float,bool)):\n",
        "    int_list.append(int(item))\n",
        "  else:\n",
        "    int_list.append(item)\n",
        "\n",
        "print(\"INTEGER LIST: \", int_list)\n",
        "\n",
        "float_list = []\n",
        "for item in Number_list:\n",
        "  if isinstance(item, str) and item.replace('.', '', 1).isdigit():\n",
        "    float_list.append(float(item))\n",
        "  elif isinstance(item, (int, float, bool)):\n",
        "    float_list.append(float(item))\n",
        "\n",
        "print(\"FLOAT LIST: \", float_list)\n",
        "\n",
        "str_list = []\n",
        "for item in Number_list:\n",
        "  if isinstance(item, str):\n",
        "    str_list.append(item)\n",
        "\n",
        "print(\"STRING LIST: \", str_list)\n",
        "\n"
      ],
      "metadata": {
        "colab": {
          "base_uri": "https://localhost:8080/"
        },
        "id": "7pa4iKukAo2M",
        "outputId": "f4091c5c-593a-4579-8019-d5bbf732213c"
      },
      "execution_count": null,
      "outputs": [
        {
          "output_type": "stream",
          "name": "stdout",
          "text": [
            "ORIGINAL LIST:  [1, 3.5, '10', '20.5', True]\n",
            "INTEGER LIST:  [1, 3, '10', '20.5', 1]\n",
            "FLOAT LIST:  [1.0, 3.5, 10.0, 20.5, 1.0]\n",
            "STRING LIST:  ['10', '20.5']\n"
          ]
        }
      ]
    },
    {
      "cell_type": "code",
      "source": [
        "from sre_constants import IN\n",
        "#QUE11. Write a program that checks if a number is positive, negative, or zero ?\n",
        "#ANS:\n",
        "num = float(input(\"ENTER A NUMBER: \"))\n",
        "\n",
        "if num < 0:\n",
        "  print(\"THE NUMBER IS NEGATIVE\")\n",
        "elif num > 0:\n",
        "  print(\"THE NUMBER IS POSITIVE\")\n",
        "else:\n",
        "  print(\"THE NUMBER IS ZERO\")"
      ],
      "metadata": {
        "colab": {
          "base_uri": "https://localhost:8080/"
        },
        "id": "E8ZgROeYHMyi",
        "outputId": "7ca0c45d-e66c-4587-b740-be03071d3a53"
      },
      "execution_count": null,
      "outputs": [
        {
          "output_type": "stream",
          "name": "stdout",
          "text": [
            "ENTER A NUMBER: 0\n",
            "THE NUMBER IS ZERO\n"
          ]
        }
      ]
    },
    {
      "cell_type": "code",
      "source": [
        "#QUE12. . Write a for loop to print numbers from 1 to 10 ?\n",
        "#ANS:\n",
        "for i in range (1, 11):\n",
        "  print(i)"
      ],
      "metadata": {
        "colab": {
          "base_uri": "https://localhost:8080/"
        },
        "id": "-vK8RRTaIM-G",
        "outputId": "183283a8-1119-4deb-842c-aafbc89dd856"
      },
      "execution_count": null,
      "outputs": [
        {
          "output_type": "stream",
          "name": "stdout",
          "text": [
            "1\n",
            "2\n",
            "3\n",
            "4\n",
            "5\n",
            "6\n",
            "7\n",
            "8\n",
            "9\n",
            "10\n"
          ]
        }
      ]
    },
    {
      "cell_type": "code",
      "source": [
        "#QUE13. Write a Python program to find the sum of all even numbers between 1 and 50 ?\n",
        "#ANS:\n",
        "total_numbers = 0\n",
        "\n",
        "for i in range(1,51):\n",
        "   if i % 2 == 0:\n",
        "       total_numbers = total_numbers + i\n",
        "print(total_numbers)"
      ],
      "metadata": {
        "id": "hST9YmOUI7LE",
        "colab": {
          "base_uri": "https://localhost:8080/"
        },
        "outputId": "7cb5492d-2f5f-498d-d9b0-0eef01502f96"
      },
      "execution_count": 12,
      "outputs": [
        {
          "output_type": "stream",
          "name": "stdout",
          "text": [
            "650\n"
          ]
        }
      ]
    },
    {
      "cell_type": "code",
      "source": [
        "#QUE14: Write a program to reverse a string using a while loop ?\n",
        "#ANS:\n",
        "\n",
        "string_1 = \"Hi sir\"\n",
        "string_2 = \"\"\n",
        "\n",
        "index = len(string_1) - 1\n",
        "\n",
        "while index >=0:\n",
        "  string_2 = string_2 + string_1[index]\n",
        "  index = index - 1\n",
        "print(string_2)"
      ],
      "metadata": {
        "colab": {
          "base_uri": "https://localhost:8080/"
        },
        "id": "76AguEjImcUI",
        "outputId": "819e1c9f-21e9-4d7f-8eef-e518ae62f6da"
      },
      "execution_count": 18,
      "outputs": [
        {
          "output_type": "stream",
          "name": "stdout",
          "text": [
            "ris iH\n"
          ]
        }
      ]
    },
    {
      "cell_type": "code",
      "source": [
        "#QUE15: Write a Python program to calculate the factorial of a number provided by the user using a while loop ?\n",
        "#ANS:\n",
        "number = int(input(\"ENTER A NUMBER TO KNOW ITS FACRORIAL: \"))\n",
        "\n",
        "factorial = 1\n",
        "\n",
        "current_number = number\n",
        "\n",
        "while current_number > 0:\n",
        "  factorial = factorial * current_number\n",
        "  current_number = current_number - 1\n",
        "print(f\"THE FACTORIAL OF {number} IS {factorial}\")"
      ],
      "metadata": {
        "colab": {
          "base_uri": "https://localhost:8080/"
        },
        "id": "wD7KopNVqE79",
        "outputId": "71a71625-5e90-4917-df70-8b4a843af246"
      },
      "execution_count": 20,
      "outputs": [
        {
          "output_type": "stream",
          "name": "stdout",
          "text": [
            "ENTER A NUMBER TO KNOW ITS FACRORIAL: 5\n",
            "THE FACTORIAL OF 5 IS 120\n"
          ]
        }
      ]
    }
  ]
}